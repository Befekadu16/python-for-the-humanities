{
 "cells": [
  {
   "cell_type": "markdown",
   "metadata": {},
   "source": [
    "# If Statements\n",
    "\n",
    "If statements let you structure your code so that certain lines are only executed if a specific condition is true. They have the form:\n",
    "\n",
    "`if <a condition>:\n",
    "     <do something>\n",
    " else:\n",
    "     <do something else>`\n",
    "     \n",
    "For example:"
   ]
  },
  {
   "cell_type": "code",
   "execution_count": null,
   "metadata": {},
   "outputs": [],
   "source": [
    "entered_number = input(\"Enter a number: \")\n",
    "if int(entered_number) > 5:\n",
    "    print(\"Number is greater than 5.\")\n",
    "else:\n",
    "    print(\"Number is smaller than or equal to 5.\")"
   ]
  },
  {
   "cell_type": "markdown",
   "metadata": {},
   "source": [
    "Possible if conditions are: \n",
    "\n",
    "- if element is in list\n",
    "- if dictionary contains key\n",
    "- if a mathematical equation yields 42\n",
    "- if a string starts with 'a'\n",
    "- if a list has at least one element\n",
    "\n",
    "etc, etc, the possiblities are endless."
   ]
  },
  {
   "cell_type": "markdown",
   "metadata": {},
   "source": [
    "### Exercises\n",
    "\n",
    "1. Ask the user to enter an animal. If the user enters \"cat\", print \"It's a cat!\", else print \"It's not a cat.\""
   ]
  },
  {
   "cell_type": "code",
   "execution_count": 6,
   "metadata": {},
   "outputs": [],
   "source": [
    "# your code"
   ]
  },
  {
   "cell_type": "markdown",
   "metadata": {},
   "source": [
    "2. Create a dictionary of pets that has the pet name as key and the pet type as value, e.g. \"woofy\": \"dog\", \"carlo\": \"cat\", \"kitty\": \"cat\", etc. Ask the user to enter a pet name and get the pet type for that name from the dictionary. If the pet is a cat, print \"It's a cat!\", otherwise print \"It's not a cat.\""
   ]
  },
  {
   "cell_type": "code",
   "execution_count": null,
   "metadata": {},
   "outputs": [],
   "source": [
    "# your code"
   ]
  },
  {
   "cell_type": "markdown",
   "metadata": {},
   "source": [
    "## Using if statements in loops\n",
    "\n",
    "You can use if statements to end loops. Use the `break` keyword to end a loop. Whenever `break` is encountered the rest of the loop is not executed and the next line after the loop is executed instead."
   ]
  },
  {
   "cell_type": "code",
   "execution_count": null,
   "metadata": {},
   "outputs": [],
   "source": [
    "while True:\n",
    "    number = input(\"Enter a number (type 0 to end program): \")\n",
    "    number = int(number)\n",
    "    if number == 0:\n",
    "        print(\"Bye!\")\n",
    "        break\n",
    "    print(\"Square is \" + str(number*number))"
   ]
  },
  {
   "cell_type": "markdown",
   "metadata": {},
   "source": [
    "### Exercises\n",
    "\n",
    "1. Create a list of items you find in a grocery store. Create another list called \"basket\" that is initially empty. Then write a loop that asks the user to input an item they want to buy. If the entered item is in the list of items you've created before, add it to the basket list. If it is not in the list, print \"Sorry, we do not have [item that was entered]\". The user should be able to enter \"done\" to exit the loop. Print the basket list to show the user what they want to buy."
   ]
  },
  {
   "cell_type": "code",
   "execution_count": null,
   "metadata": {},
   "outputs": [],
   "source": [
    "# your code"
   ]
  },
  {
   "cell_type": "markdown",
   "metadata": {},
   "source": [
    "2. Write a loop that generates 100 random numbers. However, it should end early if the random number generated in an iteration is a multiple of 42. Print how many iterations were executed."
   ]
  },
  {
   "cell_type": "code",
   "execution_count": null,
   "metadata": {},
   "outputs": [],
   "source": [
    "# your code"
   ]
  },
  {
   "cell_type": "markdown",
   "metadata": {},
   "source": [
    "## Using elif\n",
    "\n",
    "Let's write some `if... then... elif... then... else...` blocks.\n",
    "\n",
    "### Exercises\n",
    "\n",
    "1. Create a dictionary for a book library which uses book titles as keys and booleans to indicate if a book has been checkout out as values (e.g. { \"Alice in wonderland\" : False, \"Hitchhiker's guide to the galaxy\": True, \"Romeo and Juliet\": False}. Ask the user to enter a book title. If the book title is not in the dictionary print \"This book is not in the library.\" If the book is in the library and checked out, print \"Sorry, this book has been checked out.\". If the book is in the library and not checked out, set the value for the book in the dictionary to True and print \"You checked out: [book title].\""
   ]
  },
  {
   "cell_type": "code",
   "execution_count": null,
   "metadata": {},
   "outputs": [],
   "source": [
    "# your code"
   ]
  },
  {
   "cell_type": "markdown",
   "metadata": {},
   "source": [
    "2. Extend the above library book exercise by asking the user to input a book title in a loop until the user enters \"exit\". In addition to the title ask the user if they want to checkout a book or return it. If the user wants to return a book, set the value in the dictionary for that book to \"False\" and print \"You returned: [book title].\""
   ]
  },
  {
   "cell_type": "code",
   "execution_count": null,
   "metadata": {},
   "outputs": [],
   "source": [
    "# your code"
   ]
  },
  {
   "cell_type": "markdown",
   "metadata": {},
   "source": [
    "## Functions\n",
    "\n",
    "You can define a function like this:\n",
    "\n",
    "```\n",
    "def function_name(arg1, arg2,...):\n",
    "    # your code goes here\n",
    "```\n",
    "\n",
    "### Exercises\n",
    "\n",
    "1. Write a function that prints \"Hello my name is [a name]!\" for every element in a list that is passed to a function. Then write some code that creates three lists of names, one for students, one for teachers, and one for parents. Then print each list using the function you created led by an appropriate header, e.g.:\n",
    "\n",
    "```\n",
    "Students\n",
    "--------\n",
    "Hello my name is Mary!\n",
    "Hello my name is Karl!\n",
    "\n",
    "Teachers\n",
    "-----------\n",
    "Hello my name is Mr. Red!\n",
    "Hello my name is Ms. Miller!\n",
    "\n",
    "Parents\n",
    "---------\n",
    "Hello my name is Klaus Smith!\n",
    "Hello my name is Claudia Fletcher!\n",
    "```"
   ]
  },
  {
   "cell_type": "code",
   "execution_count": null,
   "metadata": {},
   "outputs": [],
   "source": [
    "# your code"
   ]
  },
  {
   "cell_type": "markdown",
   "metadata": {},
   "source": [
    "2. Start the Python interpreter and calculate the following:\n",
    "\n",
    "    * 5*41\n",
    "    * 77%8\n",
    "    * the square root of 55\n",
    "\n",
    "   Then write a function that takes two numbers and prints the result of:\n",
    "\n",
    "    * multiplying the two number\n",
    "    * modulo of the two numbers (it should be the bigger number % the smaller number)\n",
    "    * square root of the sum of both numbers\n",
    "    \n",
    "   Then call the function three times with different values."
   ]
  },
  {
   "cell_type": "code",
   "execution_count": null,
   "metadata": {},
   "outputs": [],
   "source": []
  },
  {
   "cell_type": "code",
   "execution_count": 12,
   "metadata": {},
   "outputs": [
    {
     "name": "stdout",
     "output_type": "stream",
     "text": [
      "[1, 1, 1, 1, 1, 1, 1, 1, 1, 1]\n"
     ]
    }
   ],
   "source": [
    "l1 = []\n",
    "while len(l1)<10:\n",
    "    l1.append(1)\n",
    "print(l1)"
   ]
  },
  {
   "cell_type": "code",
   "execution_count": 15,
   "metadata": {},
   "outputs": [],
   "source": [
    "if 0:\n",
    "    print(1)"
   ]
  },
  {
   "cell_type": "code",
   "execution_count": null,
   "metadata": {},
   "outputs": [],
   "source": []
  }
 ],
 "metadata": {
  "kernelspec": {
   "display_name": "Python 3",
   "language": "python",
   "name": "python3"
  },
  "language_info": {
   "codemirror_mode": {
    "name": "ipython",
    "version": 3
   },
   "file_extension": ".py",
   "mimetype": "text/x-python",
   "name": "python",
   "nbconvert_exporter": "python",
   "pygments_lexer": "ipython3",
   "version": "3.7.4"
  }
 },
 "nbformat": 4,
 "nbformat_minor": 2
}
