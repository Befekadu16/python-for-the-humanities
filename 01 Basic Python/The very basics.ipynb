{
 "cells": [
  {
   "cell_type": "markdown",
   "metadata": {},
   "source": [
    "# How to use this notebook\n",
    "Use the plus sign button on top to add a new \"cell.\" You can \"run\" a cell by selecting it and then clicking the \"Run\" button. Running a cell executes the code in it. Once a cell is run, its results are kept in memory, e.g. if a variables was assigned a value that variable will be available in the other cells. If you change a cell you have to rerun it for it to take effect."
   ]
  },
  {
   "cell_type": "markdown",
   "metadata": {},
   "source": [
    "# Variables\n",
    "Write some variables of differen types and print them. For example:"
   ]
  },
  {
   "cell_type": "code",
   "execution_count": null,
   "metadata": {},
   "outputs": [],
   "source": [
    "num1 = 90\n",
    "num2 = 3.456\n",
    "string1 = \"hello\"\n",
    "list1 = [1, 2, \"test\"]\n",
    "tuple1 = (\"hello\", \"world\")\n",
    "dict1 = {1: \"hello\", 2: \"world\"}"
   ]
  },
  {
   "cell_type": "code",
   "execution_count": null,
   "metadata": {},
   "outputs": [],
   "source": [
    "print(num1)\n",
    "print(num2)\n",
    "print(string1)\n",
    "print(list1)\n",
    "print(tuple1)\n",
    "print(dict1)"
   ]
  }
 ],
 "metadata": {
  "kernelspec": {
   "display_name": "Python 3",
   "language": "python",
   "name": "python3"
  },
  "language_info": {
   "codemirror_mode": {
    "name": "ipython",
    "version": 3
   },
   "file_extension": ".py",
   "mimetype": "text/x-python",
   "name": "python",
   "nbconvert_exporter": "python",
   "pygments_lexer": "ipython3",
   "version": "3.7.6"
  }
 },
 "nbformat": 4,
 "nbformat_minor": 4
}
