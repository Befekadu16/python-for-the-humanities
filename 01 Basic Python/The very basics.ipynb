{
 "cells": [
  {
   "cell_type": "markdown",
   "metadata": {},
   "source": [
    "# How to use this notebook\n",
    "Use the plus sign button on top to add a new \"cell.\" You can \"run\" a cell by selecting it and then clicking the \"Run\" button. Running a cell executes the code in it. Once a cell is run, its results are kept in memory, e.g. if a variables was assigned a value that variable will be available in the other cells. If you change a cell you have to rerun it for it to take effect."
   ]
  },
  {
   "cell_type": "markdown",
   "metadata": {},
   "source": [
    "# Variables\n",
    "Write some variables of differen types and print them. For example:"
   ]
  },
  {
   "cell_type": "code",
   "execution_count": 3,
   "metadata": {},
   "outputs": [],
   "source": [
    "num1 = 90\n",
    "num2 = 3.456\n",
    "string1 = \"hello\"\n",
    "list1 = [1, 2, \"test\"]\n",
    "tuple1 = (\"hello\", \"world\")\n",
    "dict1 = {1: \"hello\", 2: \"world\"}"
   ]
  },
  {
   "cell_type": "code",
   "execution_count": 4,
   "metadata": {},
   "outputs": [
    {
     "name": "stdout",
     "output_type": "stream",
     "text": [
      "90\n",
      "3.456\n",
      "hello\n",
      "[1, 2, 'test']\n",
      "('hello', 'world')\n",
      "{1: 'hello', 2: 'world'}\n"
     ]
    }
   ],
   "source": [
    "print(num1)\n",
    "print(num2)\n",
    "print(string1)\n",
    "print(list1)\n",
    "print(tuple1)\n",
    "print(dict1)"
   ]
  },
  {
   "cell_type": "markdown",
   "metadata": {},
   "source": [
    "# Playing with variables\n",
    "Let's access and play around with the above variables. You can for example add them:"
   ]
  },
  {
   "cell_type": "code",
   "execution_count": 5,
   "metadata": {},
   "outputs": [],
   "source": [
    "string2 = string1 + \"hallo\"\n",
    "num3 = num1 + num2\n",
    "list3 = list1 + list1\n",
    "tuple2 = tuple1 + tuple1"
   ]
  },
  {
   "cell_type": "code",
   "execution_count": 6,
   "metadata": {},
   "outputs": [
    {
     "name": "stdout",
     "output_type": "stream",
     "text": [
      "hellohallo\n",
      "93.456\n",
      "[1, 2, 'test', 1, 2, 'test']\n",
      "('hello', 'world', 'hello', 'world')\n"
     ]
    }
   ],
   "source": [
    "print(string2)\n",
    "print(num3)\n",
    "print(list3)\n",
    "print(tuple2)"
   ]
  },
  {
   "cell_type": "markdown",
   "metadata": {},
   "source": [
    "Or you can do math:"
   ]
  },
  {
   "cell_type": "code",
   "execution_count": 9,
   "metadata": {},
   "outputs": [
    {
     "data": {
      "text/plain": [
       "0"
      ]
     },
     "execution_count": 9,
     "metadata": {},
     "output_type": "execute_result"
    }
   ],
   "source": [
    "num1 - num2\n",
    "num1/5\n",
    "num1%5"
   ]
  },
  {
   "cell_type": "markdown",
   "metadata": {},
   "source": [
    "You might be wondering why only the result of the last line is shown. Try using the print function to see all results."
   ]
  },
  {
   "cell_type": "markdown",
   "metadata": {},
   "source": [
    "### Exercise\n",
    "\n",
    "Create two variables, then assign \"Hello \" to one of them. Assign \"World!\" to the other variable. Print them together so that \"Hello World!\" is shown."
   ]
  },
  {
   "cell_type": "code",
   "execution_count": null,
   "metadata": {},
   "outputs": [],
   "source": [
    "# put your code here"
   ]
  },
  {
   "cell_type": "markdown",
   "metadata": {},
   "source": [
    "# Lists, dictionaries and tuples\n",
    "Lists, dictionaries, and tuples are complex data types. Very simply said this means they are not just \"simple\" values (this is not 100% accurate but good enough for now). It also means they have methods that you can use to manipulate them. Let's play around with them for a little bit. You can find a list of available methods here:\n",
    "- Lists: https://www.tutorialspoint.com/python3/python_lists.htm\n",
    "- Tuples: https://www.tutorialspoint.com/python3/python_tuples.htm\n",
    "- Dictionaries: https://www.tutorialspoint.com/python3/python_dictionary.htm"
   ]
  },
  {
   "cell_type": "code",
   "execution_count": 12,
   "metadata": {},
   "outputs": [
    {
     "name": "stdout",
     "output_type": "stream",
     "text": [
      "dict_items([(1, 'hello'), (2, 'world'), ('new', 'again')])\n"
     ]
    },
    {
     "data": {
      "text/plain": [
       "'hello'"
      ]
     },
     "execution_count": 12,
     "metadata": {},
     "output_type": "execute_result"
    }
   ],
   "source": [
    "list1.append('x')\n",
    "second_value = list1[1]\n",
    "a = dict1[1]\n",
    "dict1['new'] = \"again\"\n",
    "print(dict1.items())\n",
    "tuple1[0]"
   ]
  },
  {
   "cell_type": "markdown",
   "metadata": {},
   "source": [
    "# One more word on dictionaries\n",
    "Dictionaries do not just consist of multiple values, but each value consists of multiple sub-values a key and a value. Keys are unique, values are not. A dictionary could for example have integer keys and string values:\n",
    "- 1: \"One\"\n",
    "- 2: \"Two\"\n",
    "- 3: \"Three\"\n",
    "\n",
    "You can get all keys or all values with the `key()` and `values()` methods."
   ]
  },
  {
   "cell_type": "code",
   "execution_count": 11,
   "metadata": {},
   "outputs": [
    {
     "name": "stdout",
     "output_type": "stream",
     "text": [
      "dict_keys([1, 2, 'new'])\n",
      "dict_values(['hello', 'world', 'again'])\n"
     ]
    }
   ],
   "source": [
    "print(dict1.keys())\n",
    "print(dict1.values())"
   ]
  },
  {
   "cell_type": "markdown",
   "metadata": {},
   "source": [
    "# Let's do some basic operations\n",
    "1. Create two variables (v1, v2) and assign them the values 100 and 10. Then divide the first variable by the second and assign the result to a new variable (v3). Now multiply the v3 by 5 and assign the result back to v3. Subtract 8 from v5 and print the result."
   ]
  },
  {
   "cell_type": "code",
   "execution_count": null,
   "metadata": {},
   "outputs": [],
   "source": [
    "# put your code here"
   ]
  },
  {
   "cell_type": "markdown",
   "metadata": {},
   "source": [
    "2. Create a dictionary and add the following key-value pairs: key=\"horse\" and value=\"neigh\", key=\"dog\" and value=\"woof\", key=\"cat\" and value=\"meow\", key=\"fish\" and value=\"blub\". Then print all items in the dictionary. Now replace the value for the key \"dog\" with \"woof woof\". Print all items in the dictionary."
   ]
  },
  {
   "cell_type": "code",
   "execution_count": null,
   "metadata": {},
   "outputs": [],
   "source": [
    "# put your code here"
   ]
  },
  {
   "cell_type": "markdown",
   "metadata": {},
   "source": [
    "# Using built-in functions\n",
    "Using some built-in functions, do the following (feel free to Google for additional functions and try them out):\n",
    "1. Ask the user to enter an animal and print out what they sound like (you can use the dictionary you created in the previous exercise)."
   ]
  },
  {
   "cell_type": "code",
   "execution_count": null,
   "metadata": {},
   "outputs": [],
   "source": [
    "# put your code here"
   ]
  },
  {
   "cell_type": "markdown",
   "metadata": {},
   "source": [
    "2. Create a dictionary with the 10 items of the form \"one\":1, \"two\":2, \"three\":3, etc. Get all items from the dictionary using the items() method and sort all items. Turn the result back into a dictionary using the dict() function."
   ]
  },
  {
   "cell_type": "code",
   "execution_count": null,
   "metadata": {},
   "outputs": [],
   "source": [
    "# put your code here"
   ]
  },
  {
   "cell_type": "markdown",
   "metadata": {},
   "source": [
    "3. Repeat the previous exercise but reverse the order of the items."
   ]
  },
  {
   "cell_type": "code",
   "execution_count": null,
   "metadata": {},
   "outputs": [],
   "source": [
    "# put your code here"
   ]
  },
  {
   "cell_type": "markdown",
   "metadata": {},
   "source": [
    "# Importing libraries\n",
    "Using import statements do the following:\n",
    "\n",
    "1. Calculate the following equation: take the square root of ((120*2-91)/3)."
   ]
  },
  {
   "cell_type": "code",
   "execution_count": null,
   "metadata": {},
   "outputs": [],
   "source": [
    "# put your code here"
   ]
  },
  {
   "cell_type": "markdown",
   "metadata": {},
   "source": [
    "2. Generate three random numbers between 1 and 100."
   ]
  },
  {
   "cell_type": "code",
   "execution_count": null,
   "metadata": {},
   "outputs": [],
   "source": [
    "# put your code here"
   ]
  },
  {
   "cell_type": "markdown",
   "metadata": {},
   "source": [
    "3. Randomly select an element from the following list three times: \"cat\", \"dog\", \"horse\", \"cow\", \"duck\"."
   ]
  },
  {
   "cell_type": "code",
   "execution_count": null,
   "metadata": {},
   "outputs": [],
   "source": [
    "# put your code here"
   ]
  },
  {
   "cell_type": "markdown",
   "metadata": {},
   "source": [
    "# Looping over elements\n",
    "There are many ways to loop over elements, let start with the most simple one, `for...in...` loops.\n",
    "\n",
    "1. Write a loop that prints \"Hello, my name is [name in list]\" for each of the following names: Klaus, Peter, Susi, Lena, Maxim"
   ]
  },
  {
   "cell_type": "code",
   "execution_count": null,
   "metadata": {},
   "outputs": [],
   "source": [
    "# put your code here"
   ]
  },
  {
   "cell_type": "markdown",
   "metadata": {},
   "source": [
    "2.  Print every car and their owner for the following dictionary: 'VW Golf':\"Klaus\", 'Toyota Camry':'Peter', 'Jeep': \"Susi\", \"Mini\":\"Lena\", \"Mustang\":\"Maxim\"."
   ]
  },
  {
   "cell_type": "code",
   "execution_count": null,
   "metadata": {},
   "outputs": [],
   "source": [
    "# put your code here"
   ]
  },
  {
   "cell_type": "markdown",
   "metadata": {},
   "source": [
    "Now, let's use some `for...in range(a,b)` loops.\n",
    "3. Using the previous animal list (\"cat\", \"dog\", \"horse\", \"cow\", \"duck\"), print a numbered list of all animals (e.g. 1. cat, 2. dog,...)"
   ]
  },
  {
   "cell_type": "code",
   "execution_count": null,
   "metadata": {},
   "outputs": [],
   "source": [
    "# put your code here"
   ]
  },
  {
   "cell_type": "markdown",
   "metadata": {},
   "source": [
    "4. For each animal in the above list, print each animal with the iteration number (as above), then store the current time (use `time()` function of `time` module), iterate over all characters in the animal and print an uppercase version of each character (use `upper()` method). Now note the time again and print how long it took to uppercase all characters. "
   ]
  },
  {
   "cell_type": "code",
   "execution_count": null,
   "metadata": {},
   "outputs": [],
   "source": [
    "# put your code here"
   ]
  }
 ],
 "metadata": {
  "kernelspec": {
   "display_name": "Python 3",
   "language": "python",
   "name": "python3"
  },
  "language_info": {
   "codemirror_mode": {
    "name": "ipython",
    "version": 3
   },
   "file_extension": ".py",
   "mimetype": "text/x-python",
   "name": "python",
   "nbconvert_exporter": "python",
   "pygments_lexer": "ipython3",
   "version": "3.7.6"
  }
 },
 "nbformat": 4,
 "nbformat_minor": 4
}
